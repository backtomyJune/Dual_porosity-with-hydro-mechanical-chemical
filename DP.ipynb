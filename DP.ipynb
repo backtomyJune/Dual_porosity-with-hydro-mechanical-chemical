{
 "cells": [
  {
   "cell_type": "code",
   "id": "initial_id",
   "metadata": {
    "collapsed": true,
    "ExecuteTime": {
     "end_time": "2025-09-11T00:00:38.151803Z",
     "start_time": "2025-09-11T00:00:37.737787Z"
    }
   },
   "source": [
    "import numpy as np\n",
    "import matplotlib.pyplot as plt\n",
    "import pandas as pd\n",
    "from scipy.sparse import lil_matrix\n",
    "from scipy.sparse.linalg import spsolve\n",
    "\n",
    "# 设置中文字体\n",
    "plt.rcParams['font.sans-serif'] = ['SimHei']\n",
    "plt.rcParams['axes.unicode_minus'] = False\n",
    "plt.rcParams['mathtext.fontset'] = 'stix'"
   ],
   "outputs": [],
   "execution_count": 1
  },
  {
   "metadata": {
    "ExecuteTime": {
     "end_time": "2025-09-11T00:27:11.372430Z",
     "start_time": "2025-09-11T00:27:11.359165Z"
    }
   },
   "cell_type": "code",
   "source": [
    "# --- 5mmol@3m DP ---\n",
    "D = 5e-10  # 分子扩散系数 m2/s\n",
    "L = 0.02  # 土柱高度 m\n",
    "H = 3  # 水头差 m\n",
    "c0 = 0.005  # 初始入流浓度 mol/L\n",
    "Gs = 2.6\n",
    "wf = 2.3 # 初始含水率\n",
    "kd = 15 #L/g\n",
    "ita = 0.6# 大孔隙区域占比系数\n",
    "\n",
    "# --- 实测渗透系数 ---\n",
    "k0 = 2e-10 #m/s\n",
    "kf = 4e-10 #m/s\n",
    "\n",
    "# --- 密度 ---\n",
    "ruo_0 = 1.285 # 初始密度 g/cm3\n",
    "ruo_d = ruo_0/(1+wf)  # 干密度 g/cm3\n",
    "ruo_f = ruo_d * (1+1.2)\n",
    "\n",
    "# --- 孔隙比 ---\n",
    "e0 = Gs*(1+wf)/ruo_0-1\n",
    "ef = Gs*1.2\n",
    "\n",
    "# --- 时间空间网格 ---\n",
    "time_max = 86400 * 40  # 模拟总时间 40天\n",
    "dt = 3600  # 时间步长 1小时\n",
    "space_node = 100  # 空间网格点数\n",
    "dx = L / (space_node - 1)  # 空间步长\n",
    "time_steps = int(time_max / dt)\n",
    "\n",
    "# --- 孔隙率 ---\n",
    "n0 = e0/(1+e0)\n",
    "nf = ef/(1+ef)\n",
    "\n",
    "# --- 阻滞系数 ---\n",
    "R = kd*ruo_d/nf+1\n",
    "\n",
    "# --- 大孔隙区域参数 ---\n",
    "theta_m = np.full(space_node, n0*0.6)\n",
    "R_m = np.full(space_node, R*ita)\n",
    "\n",
    "# --- 小孔隙区域参数 ---\n",
    "theta_im = np.full(space_node, n0 - n0*0.6)\n",
    "R_im = np.full(space_node, R*(1-ita))\n",
    "\n",
    "# --- 双孔隙模型参数 ---\n",
    "omega = 1e-5  # 两域间质量传递系数 ω\n",
    "alpha = omega  # 小孔隙方程中的质量传递系数 α\n",
    "\n",
    "# ===== 计算达西流速 =====\n",
    "v = k0 * H / L  # 平均达西流速\n",
    "theta_m_v = theta_m * v  # (θ_m * v)_i^n\n",
    "\n",
    "# ===== 初始化变量 =====\n",
    "time = 0\n",
    "BTC_result = []  # 存储突破曲线结果\n",
    "C_m = np.zeros(space_node)   # 大孔隙浓度 C_m,i^n\n",
    "C_im = np.zeros(space_node)  # 小孔隙浓度 C_im,i^n\n",
    "x = np.linspace(0, L, space_node)\n",
    "\n",
    "# --- 采样设置 ---\n",
    "sample_interval = 86400  # 1天采样一次\n",
    "next_sample_time = sample_interval\n",
    "\n",
    "print(f\"开始时间循环求解...\")\n",
    "print(f\"总时间步数: {time_steps}\")\n",
    "print(f\"空间节点数: {space_node}\")\n",
    "print(f\"达西流速: {v:.2e} m/s\")"
   ],
   "id": "efbc438f51d32508",
   "outputs": [
    {
     "name": "stdout",
     "output_type": "stream",
     "text": [
      "开始时间循环求解...\n",
      "总时间步数: 960\n",
      "空间节点数: 100\n",
      "达西流速: 3.00e-08 m/s\n"
     ]
    }
   ],
   "execution_count": 3
  },
  {
   "metadata": {
    "ExecuteTime": {
     "end_time": "2025-09-10T13:04:01.184687Z",
     "start_time": "2025-09-10T13:04:01.167151Z"
    }
   },
   "cell_type": "code",
   "source": "print(R)",
   "id": "d1274b5647b489e5",
   "outputs": [
    {
     "name": "stdout",
     "output_type": "stream",
     "text": [
      "8.712995337995338\n"
     ]
    }
   ],
   "execution_count": 50
  },
  {
   "metadata": {},
   "cell_type": "markdown",
   "source": [
    "# DP 控制方程\n",
    "\n",
    "${ R_m \\frac{\\partial \\theta_m C_m}{\\partial t} = D_m \\frac{\\partial}{\\partial x} \\left( \\theta_m \\frac{\\partial C_m}{\\partial x} \\right) - \\frac{\\partial (v C_m)}{\\partial x} - \\omega (C_m - C_{im}) }$\n",
    "\n",
    "$R_{im} \\frac{\\partial \\theta_{m} C_{m}}{\\partial t} = \\omega (C_{m} - C_{m})$<br>\n",
    "\n",
    "## 离散化后目标得到\n",
    "\n",
    "$A_i C_{m,j}^{n+1} + B_i C_{m,j}^{n+1} + E_i C_{m,j-1}^{n+1} = F_i$<br>\n",
    "\n",
    "$A_i = -\\frac{D}{\\Delta x^2} \\cdot \\frac{\\theta_{m,i}^n + \\theta_{m,i-1}^n}{2} - \\frac{(\\theta_m v)_i^n + (\\theta_m v)_{i-1}^n}{2 \\Delta x}$<br>\n",
    "$B_i = \\frac{R_{m,i}^n \\theta_{m,i}^n}{\\Delta t} + \\frac{D}{2 \\Delta x^2} (2 \\theta_{m,j}^n + \\theta_{m,i+1}^n + \\theta_{m,i-1}^n) + \\frac{(\\theta_m v)_i^n + (\\theta_m v)_{i+1}^n}{2 \\Delta x} + \\omega$<br>\n",
    "$E_i = -\\frac{D}{\\Delta x^2} \\cdot \\frac{\\theta_{m,i}^n + \\theta_{m,i+1}^n}{2}$<br>\n",
    "$F_i = \\frac{R_{m,i}^n \\theta_{m,i} C_{m,i}^n}{\\Delta t} + \\omega C_{im,i}^n$<br>\n",
    "$C_{im,i}^{n+1} = \\frac{\\frac{\\theta_{im,i}^{n} R_{im,i}^{n} C_{im,i}^{n}}{\\Delta t }}{\\frac{\\theta_{im,i}^{n} R_{im,i}^{n}}{\\Delta t} + \\omega} + \\omega C_{m,i}^{n}$<br>\n"
   ],
   "id": "cfade956d2fcbc81"
  },
  {
   "metadata": {
    "ExecuteTime": {
     "end_time": "2025-09-11T00:27:17.217673Z",
     "start_time": "2025-09-11T00:27:16.719164Z"
    }
   },
   "cell_type": "code",
   "source": [
    "# ===== 时间循环 =====\n",
    "for t_step in range(time_steps):\n",
    "    time += dt\n",
    "\n",
    "    # 保存上一时间步的浓度 (n时间步)\n",
    "    C_m_n = C_m.copy()\n",
    "    C_im_n = C_im.copy()\n",
    "\n",
    "    # === 构建大孔隙区域矩阵 (求解 n+1 时间步) ===\n",
    "    A_matrix = lil_matrix((space_node, space_node))\n",
    "    F_vector = np.zeros(space_node)\n",
    "\n",
    "    # 边界条件：x=0处固定入流浓度 (i=0)\n",
    "    A_matrix[0, 0] = 1.0\n",
    "    F_vector[0] = c0\n",
    "\n",
    "    # 内部节点 (i=1 to space_node-2)\n",
    "    for i in range(1, space_node-1):\n",
    "\n",
    "        A_i = (-D/dx**2) * (theta_m[i] + theta_m[i+1])/2 - (theta_m_v[i] + theta_m_v[i+1])/(2*dx)\n",
    "\n",
    "        E_i = (-D/dx**2) * (theta_m[i] + theta_m[i-1])/2 + (theta_m_v[i] + theta_m_v[i-1])/(2*dx)\n",
    "\n",
    "        B_i = (R_m[i] * theta_m[i] / dt +\n",
    "               D/(2*dx**2) * (2*theta_m[i] + theta_m[i+1] + theta_m[i-1]) +\n",
    "               (theta_m_v[i+1] - theta_m_v[i-1])/(2*dx) + omega)\n",
    "\n",
    "        # 填充矩阵\n",
    "        A_matrix[i, i-1] = E_i  # C_{m,i-1}^{n+1} 的系数\n",
    "        A_matrix[i, i] = B_i    # C_{m,i}^{n+1} 的系数\n",
    "        A_matrix[i, i+1] = A_i  # C_{m,i+1}^{n+1} 的系数\n",
    "\n",
    "        # F_i 右端项：包含上一时间步的项\n",
    "        F_vector[i] = (R_m[i] * theta_m[i] * C_m_n[i] / dt + omega * C_im_n[i])\n",
    "\n",
    "    # 边界条件：x=L处无扩散边界（零梯度）(i=space_node-1)\n",
    "    A_matrix[space_node-1, space_node-2] = -1.0\n",
    "    A_matrix[space_node-1, space_node-1] = 1.0\n",
    "    F_vector[space_node-1] = 0.0\n",
    "\n",
    "    # === 求解大孔隙方程得到 C_m^{n+1} ===\n",
    "    C_m = spsolve(A_matrix.tocsr(), F_vector)\n",
    "\n",
    "    # === 根据小孔隙方程计算 C_im^{n+1} ===\n",
    "    for i in range(space_node):\n",
    "        denominator = theta_im[i] * R_im[i] / dt + alpha\n",
    "        term1 = (theta_im[i] * R_im[i] * C_im_n[i] / dt) / denominator\n",
    "        term2 = (alpha * C_m_n[i]) / denominator  #  C_m^n (上一时间步)\n",
    "        C_im[i] = term1 + term2\n",
    "\n",
    "    # === 数据采样和存储 ===\n",
    "    if time >= next_sample_time:\n",
    "        # 计算总浓度（体积加权平均）\n",
    "        C_total = (theta_m * C_m + theta_im * C_im) / (theta_m + theta_im)\n",
    "\n",
    "        # 存储突破曲线数据（末端浓度）\n",
    "        BTC_result.append({\n",
    "            'time_days': time / 86400,\n",
    "            'C_ma_outlet': C_m[-1],\n",
    "            'C_im_outlet': C_im[-1],\n",
    "            'C_total_outlet': C_total[-1]\n",
    "        })\n",
    "\n",
    "        next_sample_time += sample_interval\n",
    "\n",
    "        # 打印进度\n",
    "        # if len(BTC_result) % 5 == 0:\n",
    "        #     print(f\"已完成 {time/86400:.1f} 天，大孔隙出口: {C_m[-1]:.6f}, 小孔隙出口: {C_im[-1]:.6f}, 总出口: {C_total[-1]:.6f} mol/L\")"
   ],
   "id": "8f86ad0f1538cf2d",
   "outputs": [],
   "execution_count": 4
  },
  {
   "metadata": {
    "ExecuteTime": {
     "end_time": "2025-09-11T00:27:23.348035Z",
     "start_time": "2025-09-11T00:27:23.259156Z"
    }
   },
   "cell_type": "code",
   "source": [
    "# ===== 结果分析和绘图 =====\n",
    "df_results = pd.DataFrame(BTC_result)\n",
    "\n",
    "plt.figure(figsize=(12, 8))\n",
    "\n",
    "# plt.subplot(2, 2, 1)\n",
    "# plt.plot(df_results['time_days'], df_results['C_ma_outlet'], 'b-', label='大孔隙区域', linewidth=2)\n",
    "# plt.plot(df_results['time_days'], df_results['C_im_outlet'], 'r-', label='小孔隙区域', linewidth=2)\n",
    "# plt.plot(df_results['time_days'], df_results['C_total_outlet'], 'k-', label='总浓度', linewidth=2)\n",
    "# plt.xlabel('时间 (天)')\n",
    "# plt.ylabel('出口浓度 (mol/L)')\n",
    "# plt.title('突破曲线')\n",
    "# plt.legend()\n",
    "# plt.grid(True, alpha=0.3)\n",
    "\n",
    "# plt.subplot(2, 2, 2)\n",
    "# C_total_final = (theta_m * C_m + theta_im * C_im) / (theta_m + theta_im)\n",
    "# plt.plot(x*1000, C_m, 'b-', label='大孔隙区域', linewidth=2)\n",
    "# plt.plot(x*1000, C_im, 'r-', label='小孔隙区域', linewidth=2)\n",
    "# plt.plot(x*1000, C_total_final, 'k-', label='总浓度', linewidth=2)\n",
    "# plt.xlabel('位置 (mm)')\n",
    "# plt.ylabel('浓度 (mol/L)')\n",
    "# plt.title('最终浓度分布')\n",
    "# plt.legend()\n",
    "# plt.grid(True, alpha=0.3)\n",
    "\n",
    "plt.subplot(2, 2, 3)\n",
    "plt.plot(df_results['time_days'], df_results['C_total_outlet']/c0, 'k-', linewidth=2)\n",
    "plt.xlabel('时间 (天)')\n",
    "plt.ylabel('C/C0')\n",
    "plt.title('BTC曲线')\n",
    "plt.grid(True, alpha=0.3)\n",
    "plt.ylim(0, 1)\n",
    "\n",
    "# plt.subplot(2, 2, 4)\n",
    "# C_diff = C_m - C_im\n",
    "# plt.plot(x*1000, C_diff, 'g-', linewidth=2)\n",
    "# plt.xlabel('位置 (mm)')\n",
    "# plt.ylabel('浓度差 (mol/L)')\n",
    "# plt.title('大孔隙与小孔隙浓度差')\n",
    "# plt.grid(True, alpha=0.3)\n",
    "\n",
    "plt.tight_layout()\n",
    "plt.show()\n",
    "\n",
    "print(f\"\\n=== 模拟完成 ===\")\n",
    "print(f\"模拟时间: {time_max/86400} 天\")\n",
    "print(f\"最终大孔隙出流浓度: {df_results['C_ma_outlet'].iloc[-1]:.6f} mol/L\")\n",
    "print(f\"最终小孔隙出流浓度: {df_results['C_im_outlet'].iloc[-1]:.6f} mol/L\")\n",
    "print(f\"总出流浓度: {df_results['C_total_outlet'].iloc[-1]:.6f} mol/L\")\n",
    "\n",
    "# df_results.to_csv('双孔隙突破曲线结果.csv', index=False)\n",
    "# print(\"结果已保存到: 双孔隙突破曲线结果.csv\")"
   ],
   "id": "59f236887f61b5ff",
   "outputs": [
    {
     "data": {
      "text/plain": [
       "<Figure size 1200x800 with 1 Axes>"
      ],
      "image/png": "[encoded data removed]"
     },
     "metadata": {},
     "output_type": "display_data"
    },
    {
     "name": "stdout",
     "output_type": "stream",
     "text": [
      "\n",
      "=== 模拟完成 ===\n",
      "模拟时间: 40.0 天\n",
      "最终大孔隙出流浓度: 0.001607 mol/L\n",
      "最终小孔隙出流浓度: 0.001550 mol/L\n",
      "总出流浓度: 0.001584 mol/L\n"
     ]
    }
   ],
   "execution_count": 5
  },
  {
   "metadata": {
    "ExecuteTime": {
     "end_time": "2025-09-10T05:47:39.115123Z",
     "start_time": "2025-09-10T05:47:39.102244Z"
    }
   },
   "cell_type": "code",
   "source": "",
   "id": "c36376edebc61a41",
   "outputs": [
    {
     "name": "stdout",
     "output_type": "stream",
     "text": [
      "结果已保存至：DP1.csv\n"
     ]
    }
   ],
   "execution_count": 39
  }
 ],
 "metadata": {
  "kernelspec": {
   "display_name": "Python 3",
   "language": "python",
   "name": "python3"
  },
  "language_info": {
   "codemirror_mode": {
    "name": "ipython",
    "version": 2
   },
   "file_extension": ".py",
   "mimetype": "text/x-python",
   "name": "python",
   "nbconvert_exporter": "python",
   "pygments_lexer": "ipython2",
   "version": "2.7.6"
  }
 },
 "nbformat": 4,
 "nbformat_minor": 5
}
